{
 "cells": [
  {
   "cell_type": "markdown",
   "metadata": {},
   "source": [
    "## HW3: Decision Tree, AdaBoost and Random Forest\n",
    "In hw3, you need to implement decision tree, adaboost and random forest by using only numpy, then train your implemented model by the provided dataset. TA will use the on-hold test label to evaluate your model performance.\n",
    "\n",
    "Please note that only **NUMPY** can be used to implement your model, you will get no points by simply calling `sklearn.tree.DecisionTreeClassifier`"
   ]
  },
  {
   "cell_type": "code",
   "execution_count": 1,
   "metadata": {},
   "outputs": [],
   "source": [
    "import numpy as np\n",
    "import math\n",
    "import random\n",
    "\n"
   ]
  },
  {
   "cell_type": "markdown",
   "metadata": {},
   "source": [
    "## Question 1\n",
    "Gini Index or Entropy is often used for measuring the “best” splitting of the data. Please compute the Entropy and Gini Index of provided data. Please use the formula from [page 5 of hw3 slides](https://docs.google.com/presentation/d/1kIe_-YZdemRMmr_3xDy-l0OS2EcLgDH7Uan14tlU5KE/edit#slide=id.gd542a5ff75_0_15)"
   ]
  },
  {
   "cell_type": "code",
   "execution_count": 2,
   "metadata": {},
   "outputs": [],
   "source": [
    "# Copy and paste your implementations right here to check your result\n",
    "# (Of course you can add your classes not written here)\n",
    "def gini(sequence):\n",
    "\n",
    "    cls_count = {}\n",
    "    for c in sequence:\n",
    "        if c in cls_count.keys():\n",
    "            cls_count[c] += 1\n",
    "        else:\n",
    "            cls_count[c] = 1\n",
    "    \n",
    "    Gini = 1.0\n",
    "    for c in cls_count.keys():\n",
    "        p = cls_count[c] / len(sequence)\n",
    "        Gini -= p ** 2\n",
    "\n",
    "    return Gini\n",
    "\n",
    "\n",
    "def entropy(sequence):\n",
    "    cls_count = {}\n",
    "    for c in sequence:\n",
    "        if c in cls_count.keys():\n",
    "            cls_count[c] += 1\n",
    "        else:\n",
    "            cls_count[c] = 1\n",
    "\n",
    "    Entropy = 0.0\n",
    "    for c in cls_count.keys():\n",
    "        p = cls_count[c] / len(sequence)\n",
    "        Entropy -= p * math.log2(p)\n",
    "    \n",
    "    return Entropy"
   ]
  },
  {
   "cell_type": "code",
   "execution_count": 3,
   "metadata": {},
   "outputs": [],
   "source": [
    "# 1 = class 1,\n",
    "# 2 = class 2\n",
    "data = np.array([1,2,1,1,1,1,2,2,1,1,2])"
   ]
  },
  {
   "cell_type": "code",
   "execution_count": 4,
   "metadata": {},
   "outputs": [
    {
     "name": "stdout",
     "output_type": "stream",
     "text": [
      "Gini of data is  0.4628099173553719\n"
     ]
    }
   ],
   "source": [
    "print(\"Gini of data is \", gini(data))"
   ]
  },
  {
   "cell_type": "code",
   "execution_count": 5,
   "metadata": {},
   "outputs": [
    {
     "name": "stdout",
     "output_type": "stream",
     "text": [
      "Entropy of data is  0.9456603046006402\n"
     ]
    }
   ],
   "source": [
    "print(\"Entropy of data is \", entropy(data))"
   ]
  },
  {
   "cell_type": "markdown",
   "metadata": {},
   "source": [
    "## Load data\n",
    "It is a binary classifiation dataset that classify if price is high or not for a cell phone, the label is stored in `price_range` column."
   ]
  },
  {
   "cell_type": "code",
   "execution_count": 6,
   "metadata": {},
   "outputs": [],
   "source": [
    "import pandas as pd\n",
    "\n",
    "train_df = pd.read_csv('train.csv')\n",
    "val_df = pd.read_csv('val.csv')\n",
    "\n",
    "x_train = train_df.drop('price_range', axis=1)\n",
    "x_test = val_df.drop('price_range', axis=1)\n",
    "\n",
    "feature_names = x_train.columns.values\n",
    "\n",
    "x_train = x_train.values\n",
    "y_train = train_df['price_range'].values\n",
    "\n",
    "x_test = x_test.values\n",
    "y_test = val_df['price_range'].values\n",
    "\n",
    "#print(train_df)\n"
   ]
  },
  {
   "cell_type": "markdown",
   "metadata": {},
   "source": [
    "## Question 2\n",
    "Implement the Decision Tree algorithm (CART, Classification and Regression Trees) and trained the model by the given arguments, and print the accuracy score on the validation data. You should implement two arguments for the Decision Tree algorithm\n",
    "1. **criterion**: The function to measure the quality of a split. Your model should support `gini` for the Gini impurity and `entropy` for the information gain. \n",
    "2. **max_depth**: The maximum depth of the tree. If `max_depth=None`, then nodes are expanded until all leaves are pure. `max_depth=1` equals to split data once\n"
   ]
  },
  {
   "cell_type": "code",
   "execution_count": 7,
   "metadata": {},
   "outputs": [],
   "source": [
    "class Node():\n",
    "    def __init__(self, left_cls=None, right_cls=None, feature=None, threshold=None, left=None, right=None, is_leaf=True, depth=0):\n",
    "        self.feature = feature\n",
    "        self.threshold = threshold\n",
    "        self.left = left\n",
    "        self.right = right\n",
    "        self.is_leaf = is_leaf\n",
    "        self.depth = depth\n",
    "        self.left_cls = left_cls\n",
    "        self.right_cls = right_cls\n",
    "    \n",
    "    def fillin(self, feature, threshold, is_leaf, left=None, right=None):\n",
    "        self.feature = feature\n",
    "        self.threshold = threshold\n",
    "        self.is_leaf = is_leaf\n",
    "        self.left = left\n",
    "        self.right = right\n"
   ]
  },
  {
   "cell_type": "code",
   "execution_count": 8,
   "metadata": {},
   "outputs": [],
   "source": [
    "class DecisionTree():\n",
    "    def __init__(self, criterion='gini', max_depth=None):\n",
    "        self.criterion = criterion\n",
    "        self.max_depth = max_depth\n",
    "        self.root = Node()\n",
    "\n",
    "    def fit(self, x_data, y_data, node=None, indices=None, max_features=None):\n",
    "        \n",
    "        # indices -> the indices of data that the sample picks \n",
    "        # features -> the indices of feature that the node picks\n",
    "        \n",
    "        if node is None:\n",
    "            node = self.root\n",
    "\n",
    "        if indices is None:\n",
    "            indices = np.array([i for i in range(x_data.shape[0])])\n",
    "\n",
    "        if max_features == x_data.shape[1] or max_features is None:\n",
    "            features = np.array([i for i in range(x_data.shape[1])])\n",
    "        else:\n",
    "            features = np.random.choice(x_data.shape[1], max_features, replace=False)\n",
    "\n",
    "        y_part = [y_data[idx] for idx in indices]\n",
    "        pure = self.check_pure(y_part)\n",
    "\n",
    "        if pure == 0:\n",
    "            node.left_cls, node.right_cls = 0, 0\n",
    "            return\n",
    "        elif pure == 1:\n",
    "            node.left_cls, node.right_cls = 1, 1\n",
    "            return\n",
    "        \n",
    "        # find feature and threshold\n",
    "        feature, threshold = self.find_threshold(x_data, y_data, indices, features)\n",
    "\n",
    "        # fill in information of node and split data\n",
    "        is_leaf = node.depth == self.max_depth-1 or feature == -1\n",
    "        left_node, right_node = None, None\n",
    "        \n",
    "        if not is_leaf:\n",
    "            left_node = Node(depth=node.depth+1)\n",
    "            right_node = Node(depth=node.depth+1)\n",
    "        \n",
    "        \n",
    "        left_indices, right_indices = self.split(x_data, feature, threshold, indices)\n",
    "        node.fillin(feature, threshold, is_leaf, left_node, right_node)\n",
    "\n",
    "        # if leaf -> check the class of right and left\n",
    "        if not is_leaf:\n",
    "            self.fit(x_data, y_data, node=left_node, indices=left_indices, max_features=max_features)\n",
    "            self.fit(x_data, y_data, node=right_node, indices=right_indices, max_features=max_features)\n",
    "        else:\n",
    "\n",
    "            left_y = np.array([y_data[idx] for idx in left_indices])\n",
    "            right_y = None\n",
    "\n",
    "            if right_indices is not None:\n",
    "                right_y = np.array([y_data[idx] for idx in right_indices])\n",
    "                \n",
    "            if self.check_class(left_y):\n",
    "                node.left_cls = 1\n",
    "            else:\n",
    "                node.left_cls = 0\n",
    "            \n",
    "            if right_y is not None and self.check_class(right_y):\n",
    "                node.right_cls = 1\n",
    "            else:\n",
    "                node.right_cls = 0\n",
    "\n",
    "    def predict(self, x_data):\n",
    "        y_pred = np.zeros(shape=x_data.shape[0])\n",
    "\n",
    "        for i in range(x_data.shape[0]):\n",
    "            y_pred[i] = self.traverse(x_data[i], self.root)\n",
    "        \n",
    "        return y_pred\n",
    "\n",
    "    ###################################################\n",
    "    # check what class is for the leaf node\n",
    "    ###################################################\n",
    "    def check_class(self, y_data):\n",
    "        count = 0\n",
    "        for c in y_data:\n",
    "            if c == 0:\n",
    "                count += 1\n",
    "\n",
    "        if count > y_data.shape[0] - count:\n",
    "            return 0\n",
    "        else:\n",
    "            return 1\n",
    "\n",
    "    ##################################################\n",
    "    # check purity\n",
    "    ##################################################\n",
    "\n",
    "    def check_pure(self, y_data):\n",
    "        count = 0\n",
    "        y_data = np.array(y_data)\n",
    "        for c in y_data:\n",
    "            if c == 0:\n",
    "                count += 1\n",
    "\n",
    "        if count == y_data.shape[0]:\n",
    "            return 0\n",
    "        elif count == 0:\n",
    "            return 1\n",
    "        else:\n",
    "            return -1\n",
    "\n",
    "    #################################################\n",
    "    # find_threshold\n",
    "    #################################################\n",
    "    def find_threshold(self, x_data, y_data, indices, features):\n",
    "        min_crit = 10.0\n",
    "        feature = -1\n",
    "        threshold = 0\n",
    "        \n",
    "        # run all features and unique values to find the threshold and feature\n",
    "        for col in features:\n",
    "            values = x_data[:, col] \n",
    "            values = np.unique(values)\n",
    "\n",
    "            if len(values) == 1:\n",
    "                continue\n",
    "\n",
    "            values = values[:-1]\n",
    "            \n",
    "            for value in values:\n",
    "                \n",
    "                left_indices = np.array([idx for idx in indices if x_data[idx][col] <= value])\n",
    "                right_indices = np.array([idx for idx in indices if x_data[idx][col] > value])\n",
    "\n",
    "                left = np.array([y_data[idx] for idx in left_indices])\n",
    "                right = np.array([y_data[idx] for idx in right_indices])\n",
    "\n",
    "                total = len(left_indices) + len(right_indices)\n",
    "\n",
    "                if self.criterion == 'gini':\n",
    "                    crit_value = len(left_indices) / total * gini(left) + len(right_indices) / total * gini(right)\n",
    "                else:\n",
    "                    crit_value = len(left_indices) / total * entropy(left) + len(right_indices) / total * entropy(right)\n",
    "\n",
    "                if crit_value < min_crit:\n",
    "                    min_crit = crit_value\n",
    "                    feature = col\n",
    "                    threshold = value\n",
    "\n",
    "        #print(min_crit)\n",
    "        #print(\"threshold: {th}  feature: {f}\".format(th=threshold, f=feature))\n",
    "        #print(feature, threshold)    \n",
    "        return (feature, threshold)\n",
    "\n",
    "    ###############################################\n",
    "    # split dataset\n",
    "    ###############################################\n",
    "    def split(self, x_data, feature, threshold, indices):\n",
    "        if feature == -1:\n",
    "            return indices, None\n",
    "\n",
    "        left_indices = np.array([idx for idx in indices if x_data[idx][feature] <= threshold])\n",
    "        right_indices = np.array([idx for idx in indices if x_data[idx][feature] > threshold])\n",
    "\n",
    "        return left_indices, right_indices\n",
    "\n",
    "    ###############################################\n",
    "    # traverse during predict\n",
    "    ###############################################\n",
    "    def traverse(self, x, node):\n",
    "        if node.feature is None or node.feature == -1:\n",
    "            return node.left_cls\n",
    "        elif node.is_leaf:\n",
    "            if x[node.feature] <= node.threshold:\n",
    "                return node.left_cls\n",
    "            elif x[node.feature] > node.threshold:\n",
    "                return node.right_cls\n",
    "\n",
    "        if node.left is not None and x[node.feature] <= node.threshold:\n",
    "            return self.traverse(x, node.left)\n",
    "        elif node.right is not None and x[node.feature] > node.threshold:\n",
    "            return self.traverse(x, node.right)\n",
    "    "
   ]
  },
  {
   "cell_type": "code",
   "execution_count": 9,
   "metadata": {},
   "outputs": [],
   "source": [
    "def Accuracy(y_data, y_pred):\n",
    "    correct = 0\n",
    "    \n",
    "    for i in range(len(y_data)):\n",
    "        if y_data[i] == y_pred[i]:\n",
    "            correct += 1\n",
    "    \n",
    "    acc = correct / len(y_data)\n",
    "    return acc"
   ]
  },
  {
   "cell_type": "markdown",
   "metadata": {},
   "source": [
    "### Question 2.1\n",
    "Using `criterion=gini`, showing the accuracy score of validation data by `max_depth=3` and `max_depth=10`, respectively.\n"
   ]
  },
  {
   "cell_type": "code",
   "execution_count": 10,
   "metadata": {},
   "outputs": [
    {
     "ename": "KeyboardInterrupt",
     "evalue": "",
     "output_type": "error",
     "traceback": [
      "\u001b[1;31m---------------------------------------------------------------------------\u001b[0m",
      "\u001b[1;31mKeyboardInterrupt\u001b[0m                         Traceback (most recent call last)",
      "Cell \u001b[1;32mIn [10], line 4\u001b[0m\n\u001b[0;32m      1\u001b[0m clf_depth3 \u001b[39m=\u001b[39m DecisionTree(criterion\u001b[39m=\u001b[39m\u001b[39m'\u001b[39m\u001b[39mgini\u001b[39m\u001b[39m'\u001b[39m, max_depth\u001b[39m=\u001b[39m\u001b[39m3\u001b[39m)\n\u001b[0;32m      2\u001b[0m clf_depth10 \u001b[39m=\u001b[39m DecisionTree(criterion\u001b[39m=\u001b[39m\u001b[39m'\u001b[39m\u001b[39mgini\u001b[39m\u001b[39m'\u001b[39m, max_depth\u001b[39m=\u001b[39m\u001b[39m10\u001b[39m)\n\u001b[1;32m----> 4\u001b[0m clf_depth3\u001b[39m.\u001b[39mfit(x_train, y_train)\n\u001b[0;32m      5\u001b[0m clf_depth10\u001b[39m.\u001b[39mfit(x_train, y_train)\n",
      "Cell \u001b[1;32mIn [8], line 34\u001b[0m, in \u001b[0;36mDecisionTree.fit\u001b[1;34m(self, x_data, y_data, node, indices, max_features)\u001b[0m\n\u001b[0;32m     31\u001b[0m     \u001b[39mreturn\u001b[39;00m\n\u001b[0;32m     33\u001b[0m \u001b[39m# find feature and threshold\u001b[39;00m\n\u001b[1;32m---> 34\u001b[0m feature, threshold \u001b[39m=\u001b[39m \u001b[39mself\u001b[39;49m\u001b[39m.\u001b[39;49mfind_threshold(x_data, y_data, indices, features)\n\u001b[0;32m     36\u001b[0m \u001b[39m# fill in information of node and split data\u001b[39;00m\n\u001b[0;32m     37\u001b[0m is_leaf \u001b[39m=\u001b[39m node\u001b[39m.\u001b[39mdepth \u001b[39m==\u001b[39m \u001b[39mself\u001b[39m\u001b[39m.\u001b[39mmax_depth\u001b[39m-\u001b[39m\u001b[39m1\u001b[39m \u001b[39mor\u001b[39;00m feature \u001b[39m==\u001b[39m \u001b[39m-\u001b[39m\u001b[39m1\u001b[39m\n",
      "Cell \u001b[1;32mIn [8], line 133\u001b[0m, in \u001b[0;36mDecisionTree.find_threshold\u001b[1;34m(self, x_data, y_data, indices, features)\u001b[0m\n\u001b[0;32m    130\u001b[0m left_indices \u001b[39m=\u001b[39m np\u001b[39m.\u001b[39marray([idx \u001b[39mfor\u001b[39;00m idx \u001b[39min\u001b[39;00m indices \u001b[39mif\u001b[39;00m x_data[idx][col] \u001b[39m<\u001b[39m\u001b[39m=\u001b[39m value])\n\u001b[0;32m    131\u001b[0m right_indices \u001b[39m=\u001b[39m np\u001b[39m.\u001b[39marray([idx \u001b[39mfor\u001b[39;00m idx \u001b[39min\u001b[39;00m indices \u001b[39mif\u001b[39;00m x_data[idx][col] \u001b[39m>\u001b[39m value])\n\u001b[1;32m--> 133\u001b[0m left \u001b[39m=\u001b[39m np\u001b[39m.\u001b[39marray([y_data[idx] \u001b[39mfor\u001b[39;00m idx \u001b[39min\u001b[39;00m left_indices])\n\u001b[0;32m    134\u001b[0m right \u001b[39m=\u001b[39m np\u001b[39m.\u001b[39marray([y_data[idx] \u001b[39mfor\u001b[39;00m idx \u001b[39min\u001b[39;00m right_indices])\n\u001b[0;32m    136\u001b[0m total \u001b[39m=\u001b[39m \u001b[39mlen\u001b[39m(left_indices) \u001b[39m+\u001b[39m \u001b[39mlen\u001b[39m(right_indices)\n",
      "Cell \u001b[1;32mIn [8], line 133\u001b[0m, in \u001b[0;36m<listcomp>\u001b[1;34m(.0)\u001b[0m\n\u001b[0;32m    130\u001b[0m left_indices \u001b[39m=\u001b[39m np\u001b[39m.\u001b[39marray([idx \u001b[39mfor\u001b[39;00m idx \u001b[39min\u001b[39;00m indices \u001b[39mif\u001b[39;00m x_data[idx][col] \u001b[39m<\u001b[39m\u001b[39m=\u001b[39m value])\n\u001b[0;32m    131\u001b[0m right_indices \u001b[39m=\u001b[39m np\u001b[39m.\u001b[39marray([idx \u001b[39mfor\u001b[39;00m idx \u001b[39min\u001b[39;00m indices \u001b[39mif\u001b[39;00m x_data[idx][col] \u001b[39m>\u001b[39m value])\n\u001b[1;32m--> 133\u001b[0m left \u001b[39m=\u001b[39m np\u001b[39m.\u001b[39marray([y_data[idx] \u001b[39mfor\u001b[39;00m idx \u001b[39min\u001b[39;00m left_indices])\n\u001b[0;32m    134\u001b[0m right \u001b[39m=\u001b[39m np\u001b[39m.\u001b[39marray([y_data[idx] \u001b[39mfor\u001b[39;00m idx \u001b[39min\u001b[39;00m right_indices])\n\u001b[0;32m    136\u001b[0m total \u001b[39m=\u001b[39m \u001b[39mlen\u001b[39m(left_indices) \u001b[39m+\u001b[39m \u001b[39mlen\u001b[39m(right_indices)\n",
      "\u001b[1;31mKeyboardInterrupt\u001b[0m: "
     ]
    }
   ],
   "source": [
    "clf_depth3 = DecisionTree(criterion='gini', max_depth=3)\n",
    "clf_depth10 = DecisionTree(criterion='gini', max_depth=10)\n",
    "\n",
    "clf_depth3.fit(x_train, y_train)\n",
    "clf_depth10.fit(x_train, y_train)"
   ]
  },
  {
   "cell_type": "code",
   "execution_count": 17,
   "metadata": {},
   "outputs": [
    {
     "name": "stdout",
     "output_type": "stream",
     "text": [
      "Accuracy with depth 3: 0.9166666666666666\n",
      "Accuracy with depth 10: 0.9366666666666666\n"
     ]
    }
   ],
   "source": [
    "y_pred3 = clf_depth3.predict(x_test)\n",
    "#print(y_pred3)\n",
    "acc3 = Accuracy(y_test, y_pred3)\n",
    "print(\"Accuracy with depth 3: {}\".format(acc3))\n",
    "\n",
    "\n",
    "y_pred10 = clf_depth10.predict(x_test)\n",
    "acc10 = Accuracy(y_test, y_pred10)\n",
    "print(\"Accuracy with depth 10: {}\".format(acc10))"
   ]
  },
  {
   "cell_type": "markdown",
   "metadata": {},
   "source": [
    "### Question 2.2\n",
    "Using `max_depth=3`, showing the accuracy score of validation data by `criterion=gini` and `criterion=entropy`, respectively.\n"
   ]
  },
  {
   "cell_type": "code",
   "execution_count": 68,
   "metadata": {},
   "outputs": [],
   "source": [
    "clf_gini = DecisionTree(criterion='gini', max_depth=3)\n",
    "clf_entropy = DecisionTree(criterion='entropy', max_depth=3)\n",
    "\n",
    "clf_gini.fit(x_train, y_train)\n",
    "clf_entropy.fit(x_train, y_train)"
   ]
  },
  {
   "cell_type": "code",
   "execution_count": 69,
   "metadata": {},
   "outputs": [
    {
     "name": "stdout",
     "output_type": "stream",
     "text": [
      "Accuracy with gini: 0.9166666666666666\n",
      "Accuracy with entropy: 0.93\n"
     ]
    }
   ],
   "source": [
    "y_pred_gini = clf_gini.predict(x_test)\n",
    "acc_gini = Accuracy(y_test, y_pred_gini)\n",
    "print(\"Accuracy with gini: {}\".format(acc_gini))\n",
    "\n",
    "\n",
    "y_pred_entropy = clf_entropy.predict(x_test)\n",
    "acc_entropy = Accuracy(y_test, y_pred_entropy)\n",
    "print(\"Accuracy with entropy: {}\".format(acc_entropy))"
   ]
  },
  {
   "cell_type": "markdown",
   "metadata": {},
   "source": [
    "- Note: Your decisition tree scores should over **0.7**. It may suffer from overfitting, if so, you can tune the hyperparameter such as `max_depth`\n",
    "- Note: You should get the same results when re-building the model with the same arguments,  no need to prune the trees\n",
    "- Hint: You can use the recursive method to build the nodes\n"
   ]
  },
  {
   "cell_type": "markdown",
   "metadata": {},
   "source": [
    "## Question 3\n",
    "Plot the [feature importance](https://sefiks.com/2020/04/06/feature-importance-in-decision-trees/) of your Decision Tree model. You can get the feature importance by counting the feature used for splitting data.\n",
    "\n",
    "- You can simply plot the **counts of feature used** for building tree without normalize the importance. Take the figure below as example, outlook feature has been used for splitting for almost 50 times. Therefore, it has the largest importance\n",
    "\n",
    "![image](https://i2.wp.com/sefiks.com/wp-content/uploads/2020/04/c45-fi-results.jpg?w=481&ssl=1)"
   ]
  },
  {
   "cell_type": "code",
   "execution_count": 70,
   "metadata": {},
   "outputs": [
    {
     "name": "stdout",
     "output_type": "stream",
     "text": [
      "{'ram': 9, 'px_height': 9, 'fc': 2, 'battery_power': 19, 'px_width': 5, 'm_dep': 2, 'mobile_wt': 1}\n"
     ]
    },
    {
     "data": {
      "image/png": "[encoded data removed]",
      "text/plain": [
       "<Figure size 800x600 with 1 Axes>"
      ]
     },
     "metadata": {},
     "output_type": "display_data"
    }
   ],
   "source": [
    "# traverse the tree and count the features\n",
    "def calc_feature(node):\n",
    "    feature_dict = {}\n",
    "\n",
    "    if node.feature == -1 or node.feature is None:\n",
    "        return feature_dict\n",
    "\n",
    "    feature_dict[feature_names[node.feature]] = 1\n",
    "\n",
    "    if node.left is not None:\n",
    "        left = calc_feature(node.left)\n",
    "        for key in left.keys():\n",
    "            if key in feature_dict.keys():\n",
    "                feature_dict[key] += left[key]\n",
    "            else:\n",
    "                feature_dict[key] = left[key]\n",
    "\n",
    "    if node.right is not None:\n",
    "        right = calc_feature(node.right)\n",
    "        for key in right.keys():\n",
    "            if key in feature_dict.keys():\n",
    "                feature_dict[key] += right[key]\n",
    "            else:\n",
    "                feature_dict[key] = right[key]\n",
    "    \n",
    "    return feature_dict\n",
    "\n",
    "feature_dict = calc_feature(clf_depth10.root)\n",
    "print(feature_dict)\n",
    "\n",
    "import matplotlib.pyplot as plt\n",
    "import seaborn as sns\n",
    "\n",
    "plt.figure(figsize=(8, 6))\n",
    "plt.bar(feature_dict.keys(), feature_dict.values())\n",
    "plt.xticks(rotation=30)\n",
    "sns.set()\n",
    "plt.show()\n"
   ]
  },
  {
   "cell_type": "markdown",
   "metadata": {},
   "source": [
    "## Question 4\n",
    "implement the AdaBooest algorithm by using the CART you just implemented from question 2 as base learner. You should implement one arguments for the AdaBooest.\n",
    "1. **n_estimators**: The maximum number of estimators at which boosting is terminated"
   ]
  },
  {
   "cell_type": "code",
   "execution_count": 8,
   "metadata": {},
   "outputs": [],
   "source": [
    "class WeakClassifier():\n",
    "    def __init__(self, cart=None, weight=None):\n",
    "        self.weight = weight\n",
    "        self.cart = cart"
   ]
  },
  {
   "cell_type": "code",
   "execution_count": 9,
   "metadata": {},
   "outputs": [],
   "source": [
    "class AdaBoost():\n",
    "    def __init__(self, n_estimators, depth=1):\n",
    "        self.n_estimators = n_estimators\n",
    "        self.classifiers = []\n",
    "        self.depth = depth\n",
    "\n",
    "    def fit(self, x_data, y_data):\n",
    "        weight = np.ones(shape=(x_data.shape[0]))\n",
    "        weight /= x_data.shape[0]  # initialize weight\n",
    "\n",
    "        for _ in range(self.n_estimators):\n",
    "            cart = DecisionTree(criterion='gini', max_depth=self.depth)\n",
    "            weak_clf = WeakClassifier(cart=cart)\n",
    "\n",
    "            # sample new dataset depends on the weight\n",
    "            indices = np.random.choice(x_data.shape[0], x_data.shape[0], replace=True, p=weight)\n",
    "\n",
    "            x_samples = x_data[indices]\n",
    "            y_samples = y_data[indices]\n",
    "\n",
    "            cart.fit(x_samples, y_samples)\n",
    "            y_pred = cart.predict(x_data)\n",
    "\n",
    "            error = 0.0\n",
    "            for i in range(len(y_data)):\n",
    "                error += weight[i] * (y_data[i] != y_pred[i])\n",
    "            \n",
    "            # alpha\n",
    "            weak_clf.weight = (1/2) * np.log((1-error)/error)\n",
    "\n",
    "            # update weight of data\n",
    "            for i in range(len(weight)):\n",
    "                weight[i] = weight[i] * np.exp(-weak_clf.weight * (2*y_data[i]-1) * (2*y_pred[i]-1))\n",
    "\n",
    "            weight /= np.sum(weight)\n",
    "            self.classifiers.append(weak_clf)\n",
    "\n",
    "    def predict(self, x_data):\n",
    "        result = np.zeros(shape=x_data.shape[0])\n",
    "\n",
    "        for clf in self.classifiers:\n",
    "            y_pred = clf.cart.predict(x_data)\n",
    "            # the predictions are 0 and 1 -> transfer to -1 and 1\n",
    "            y_pred = 2 * y_pred - 1\n",
    "            for i in range(len(result)):\n",
    "                result[i] += clf.weight * y_pred[i]\n",
    "        \n",
    "        for i in range(len(result)):\n",
    "            if result[i] >= 0:\n",
    "                result[i] = 1\n",
    "            else:\n",
    "                result[i] = 0\n",
    "\n",
    "        return result"
   ]
  },
  {
   "cell_type": "code",
   "execution_count": null,
   "metadata": {},
   "outputs": [],
   "source": []
  },
  {
   "cell_type": "markdown",
   "metadata": {},
   "source": [
    "### Question 4.1\n",
    "Show the accuracy score of validation data by `n_estimators=10` and `n_estimators=100`, respectively.\n"
   ]
  },
  {
   "cell_type": "code",
   "execution_count": 73,
   "metadata": {},
   "outputs": [],
   "source": [
    "clf10 = AdaBoost(n_estimators=10)\n",
    "clf10.fit(x_train, y_train)\n"
   ]
  },
  {
   "cell_type": "code",
   "execution_count": 74,
   "metadata": {},
   "outputs": [
    {
     "name": "stdout",
     "output_type": "stream",
     "text": [
      "Accuracy with n=10 : 0.9466666666666667\n"
     ]
    }
   ],
   "source": [
    "y_pred_ada10 = clf10.predict(x_test)\n",
    "acc_ada10 = Accuracy(y_test, y_pred_ada10)\n",
    "print(\"Accuracy with n=10 : {}\".format(acc_ada10))"
   ]
  },
  {
   "cell_type": "code",
   "execution_count": 75,
   "metadata": {},
   "outputs": [],
   "source": [
    "clf100 = AdaBoost(n_estimators=100)\n",
    "clf100.fit(x_train, y_train)"
   ]
  },
  {
   "cell_type": "code",
   "execution_count": 76,
   "metadata": {},
   "outputs": [
    {
     "name": "stdout",
     "output_type": "stream",
     "text": [
      "Accuracy with n=100 : 0.97\n"
     ]
    }
   ],
   "source": [
    "y_pred_ada100 = clf100.predict(x_test)\n",
    "acc_ada100 = Accuracy(y_test, y_pred_ada100)\n",
    "print(\"Accuracy with n=100 : {}\".format(acc_ada100))"
   ]
  },
  {
   "cell_type": "markdown",
   "metadata": {},
   "source": [
    "## Question 5\n",
    "implement the Random Forest algorithm by using the CART you just implemented from question 2. You should implement three arguments for the Random Forest.\n",
    "\n",
    "1. **n_estimators**: The number of trees in the forest. \n",
    "2. **max_features**: The number of random select features to consider when looking for the best split\n",
    "3. **bootstrap**: Whether bootstrap samples are used when building tree\n"
   ]
  },
  {
   "cell_type": "code",
   "execution_count": 77,
   "metadata": {},
   "outputs": [],
   "source": [
    "class RandomForest():\n",
    "    def __init__(self, n_estimators, max_features, bootstrap=True, criterion='gini', max_depth=None):\n",
    "        self.n_estimators = n_estimators\n",
    "        self.max_features = math.ceil(max_features)\n",
    "        self.bootstrap = bootstrap\n",
    "        self.criterion = criterion\n",
    "        self.max_depth = max_depth\n",
    "\n",
    "        self.classifiers = []\n",
    "        \n",
    "    def fit(self, x_data, y_data):\n",
    "        if self.max_depth is None:\n",
    "            self.max_depth = x_data.shape[0]\n",
    "\n",
    "        for _ in range(self.n_estimators):\n",
    "            # sample from dataset\n",
    "            if self.bootstrap:\n",
    "                indices = np.random.choice(x_data.shape[0], x_data.shape[0], replace=True)\n",
    "            else:\n",
    "                indices = np.array([i for i in range(x_data.shape[0])])\n",
    "            #print(type(self.max_features))\n",
    "            \n",
    "            clf = DecisionTree(criterion='gini', max_depth=self.max_depth)\n",
    "            #print(indices, features)\n",
    "            clf.fit(x_data, y_data, indices=indices, max_features=self.max_features)\n",
    "\n",
    "            self.classifiers.append(clf)\n",
    "\n",
    "    def predict(self, x_data):\n",
    "        result = np.zeros(shape=x_data.shape[0])\n",
    "\n",
    "        for i in range(x_data.shape[0]):\n",
    "            for clf in self.classifiers:\n",
    "                pred_cls = clf.traverse(x_data[i], clf.root)\n",
    "        \n",
    "                if pred_cls == 1:\n",
    "                    result[i] += 1\n",
    "                else:\n",
    "                    result[i] += -1\n",
    "        \n",
    "        for i in range(len(result)):\n",
    "            if result[i] >= 0:\n",
    "                result[i] = 1\n",
    "            else:\n",
    "                result[i] = 0\n",
    "        \n",
    "        return result\n",
    "                \n"
   ]
  },
  {
   "cell_type": "markdown",
   "metadata": {},
   "source": [
    "### Question 5.1\n",
    "Using `criterion=gini`, `max_depth=None`, `max_features=sqrt(n_features)`, showing the accuracy score of validation data by `n_estimators=10` and `n_estimators=100`, respectively.\n"
   ]
  },
  {
   "cell_type": "code",
   "execution_count": 78,
   "metadata": {},
   "outputs": [],
   "source": [
    "clf_10tree = RandomForest(n_estimators=10, max_features=np.sqrt(x_train.shape[1]))\n",
    "clf_100tree = RandomForest(n_estimators=100, max_features=np.sqrt(x_train.shape[1]))"
   ]
  },
  {
   "cell_type": "code",
   "execution_count": 79,
   "metadata": {},
   "outputs": [
    {
     "name": "stdout",
     "output_type": "stream",
     "text": [
      "Accuracy of random forest n=10 : 0.9433333333333334\n"
     ]
    }
   ],
   "source": [
    "clf_10tree.fit(x_train, y_train)\n",
    "pred_fore10 = clf_10tree.predict(x_test)\n",
    "acc_fore10 = Accuracy(y_test, pred_fore10)\n",
    "print(\"Accuracy of random forest n=10 : {}\".format(acc_fore10))"
   ]
  },
  {
   "cell_type": "code",
   "execution_count": 80,
   "metadata": {},
   "outputs": [
    {
     "name": "stdout",
     "output_type": "stream",
     "text": [
      "Accuracy of random forest n=100 : 0.95\n"
     ]
    }
   ],
   "source": [
    "clf_100tree.fit(x_train, y_train)\n",
    "pred_fore100 = clf_100tree.predict(x_test)\n",
    "acc_fore100 = Accuracy(y_test, pred_fore100)\n",
    "print(\"Accuracy of random forest n=100 : {}\".format(acc_fore100))"
   ]
  },
  {
   "cell_type": "markdown",
   "metadata": {},
   "source": [
    "### Question 5.2\n",
    "Using `criterion=gini`, `max_depth=None`, `n_estimators=10`, showing the accuracy score of validation data by `max_features=sqrt(n_features)` and `max_features=n_features`, respectively.\n"
   ]
  },
  {
   "cell_type": "code",
   "execution_count": 81,
   "metadata": {},
   "outputs": [],
   "source": [
    "clf_random_features = RandomForest(n_estimators=10, max_features=np.sqrt(x_train.shape[1]))\n",
    "clf_all_features = RandomForest(n_estimators=10, max_features=x_train.shape[1])"
   ]
  },
  {
   "cell_type": "markdown",
   "metadata": {},
   "source": [
    "- Note: Use majority votes to get the final prediction, you may get slightly different results when re-building the random forest model"
   ]
  },
  {
   "cell_type": "code",
   "execution_count": 82,
   "metadata": {},
   "outputs": [
    {
     "name": "stdout",
     "output_type": "stream",
     "text": [
      "Accuracy of random feature: 0.93\n",
      "Accuracy of all feature: 0.9466666666666667\n"
     ]
    }
   ],
   "source": [
    "clf_random_features.fit(x_train, y_train)\n",
    "clf_all_features.fit(x_train, y_train)\n",
    "\n",
    "pred_rf = clf_random_features.predict(x_test)\n",
    "acc_rf = Accuracy(y_test, pred_rf)\n",
    "print(\"Accuracy of random feature: {}\".format(acc_rf))\n",
    "\n",
    "pred_af = clf_all_features.predict(x_test)\n",
    "acc_af = Accuracy(y_test, pred_af)\n",
    "print(\"Accuracy of all feature: {}\".format(acc_af))"
   ]
  },
  {
   "cell_type": "markdown",
   "metadata": {},
   "source": [
    "### Question 6. Train and tune your model on a real-world dataset\n",
    "Try you best to get higher accuracy score of your model. After parameter tuning, you can train your model on the full dataset (train + val).\n",
    "- Feature engineering\n",
    "- Hyperparameter tuning\n",
    "- Implement any other ensemble methods, such as gradient boosting. Please note that you **can not** call any package. Also, only ensemble method can be used. Neural network method is not allowed to used."
   ]
  },
  {
   "cell_type": "code",
   "execution_count": 11,
   "metadata": {},
   "outputs": [],
   "source": [
    "def train_your_model(data):\n",
    "    ## Define your model and training\n",
    "    x_train = data.drop('price_range', axis=1)\n",
    "    x_train = x_train.values\n",
    "    y_train = data['price_range'].values\n",
    "\n",
    "    model = AdaBoost(n_estimators=150)\n",
    "    model.fit(x_train, y_train) \n",
    "    return model"
   ]
  },
  {
   "cell_type": "code",
   "execution_count": 18,
   "metadata": {},
   "outputs": [],
   "source": [
    "frames = [train_df, val_df]\n",
    "data_df = pd.concat(frames)\n",
    "my_model = train_your_model(data_df)"
   ]
  },
  {
   "cell_type": "code",
   "execution_count": null,
   "metadata": {},
   "outputs": [],
   "source": [
    "test_df = pd.read_csv('x_test.csv')\n",
    "x_test = test_df.values"
   ]
  },
  {
   "cell_type": "code",
   "execution_count": null,
   "metadata": {},
   "outputs": [],
   "source": [
    "y_pred = my_model.predict(x_test)\n",
    "np.save('y_pred.npy', y_pred)"
   ]
  },
  {
   "cell_type": "code",
   "execution_count": null,
   "metadata": {},
   "outputs": [],
   "source": [
    "assert y_pred.shape == (500, )"
   ]
  },
  {
   "cell_type": "markdown",
   "metadata": {},
   "source": [
    "## Supplementary\n",
    "If you have trouble to implement this homework, TA strongly recommend watching [this video](https://www.youtube.com/watch?v=LDRbO9a6XPU), which explains Decision Tree model clearly. But don't copy code from any resources, try to finish this homework by yourself! "
   ]
  },
  {
   "cell_type": "markdown",
   "metadata": {},
   "source": [
    "### DO NOT MODIFY CODE BELOW"
   ]
  },
  {
   "cell_type": "code",
   "execution_count": null,
   "metadata": {},
   "outputs": [],
   "source": [
    "import pandas as pd\n",
    "from sklearn.metrics import accuracy_score\n",
    "y_test = pd.read_csv('y_test.csv')['price_range'].values\n",
    "\n",
    "print('Test-set accuarcy score: ', accuracy_score(y_test, y_pred))"
   ]
  },
  {
   "cell_type": "code",
   "execution_count": null,
   "metadata": {},
   "outputs": [],
   "source": []
  },
  {
   "cell_type": "code",
   "execution_count": null,
   "metadata": {},
   "outputs": [],
   "source": [
    "def discrete_checker(score, thres, clf, name, x_train, y_train, x_test, y_test):\n",
    "    clf.fit(x_train, y_train)\n",
    "    y_pred = clf.predict(x_test)\n",
    "    \n",
    "    if accuracy_score(y_test, y_pred) - thres >= 0:\n",
    "        return score\n",
    "    else:\n",
    "        print(f\"{name} failed\")\n",
    "        return 0\n",
    "\n",
    "\n",
    "def patient_checker(score, thres, CLS, kwargs, name,\n",
    "                    x_train, y_train, x_test, y_test, patient=10):\n",
    "    while patient > 0:\n",
    "        patient -= 1\n",
    "        clf = CLS(**kwargs)\n",
    "        clf.fit(x_train, y_train)\n",
    "        y_pred = clf.predict(x_test)\n",
    "        \n",
    "        if accuracy_score(y_test, y_pred) - thres >= 0:\n",
    "            return score\n",
    "    print(f\"{name} failed\")\n",
    "    print(\"Considering the randomness, we will check it manually\")\n",
    "    return 0\n",
    "\n",
    "\n",
    "def load_dataset():\n",
    "    file_url = \"http://storage.googleapis.com/download.tensorflow.org/data/abalone_train.csv\"\n",
    "    df = pd.read_csv(\n",
    "        file_url,\n",
    "        names=[\"Length\", \"Diameter\", \"Height\", \"Whole weight\", \"Shucked weight\",\n",
    "               \"Viscera weight\", \"Shell weight\", \"Age\"]\n",
    "    )\n",
    "\n",
    "    df['Target'] = (df[\"Age\"] > 15).astype(int)\n",
    "    df = df.drop(labels=[\"Age\"], axis=\"columns\")\n",
    "\n",
    "    train_idx = range(0, len(df), 10)\n",
    "    test_idx = range(1, len(df), 20)\n",
    "\n",
    "    train_df = df.iloc[train_idx]\n",
    "    test_df = df.iloc[test_idx]\n",
    "\n",
    "    x_train = train_df.drop(labels=[\"Target\"], axis=\"columns\")\n",
    "    feature_names = x_train.columns.values\n",
    "    x_train = x_train.values\n",
    "    y_train = train_df['Target'].values\n",
    "\n",
    "    x_test = test_df.drop(labels=[\"Target\"], axis=\"columns\")\n",
    "    x_test = x_test.values\n",
    "    y_test = test_df['Target'].values\n",
    "    return x_train, y_train, x_test, y_test, feature_names\n",
    "\n",
    "\n",
    "score = 0\n",
    "\n",
    "data = np.array([1, 2])\n",
    "if abs(gini(data) - 0.5) < 1e-4:\n",
    "    score += 2.5\n",
    "else:\n",
    "    print(\"gini test failed\")\n",
    "\n",
    "if abs(entropy(data) - 1) < 1e-4:\n",
    "    score += 2.5\n",
    "else:\n",
    "    print(\"entropy test failed\")\n",
    "\n",
    "x_train, y_train, x_test, y_test, feature_names = load_dataset()\n",
    "\n",
    "score += discrete_checker(5, 0.9337,\n",
    "                          DecisionTree(criterion='gini', max_depth=3),\n",
    "                          \"DecisionTree(criterion='gini', max_depth=3)\",\n",
    "                          x_train, y_train, x_test, y_test\n",
    "                          )\n",
    "\n",
    "score += discrete_checker(2.5, 0.9036,\n",
    "                          DecisionTree(criterion='gini', max_depth=10),\n",
    "                          \"DecisionTree(criterion='gini', max_depth=10)\",\n",
    "                          x_train, y_train, x_test, y_test\n",
    "                          )\n",
    "\n",
    "score += discrete_checker(2.5, 0.9096,\n",
    "                          DecisionTree(criterion='entropy', max_depth=3),\n",
    "                          \"DecisionTree(criterion='entropy', max_depth=3)\",\n",
    "                          x_train, y_train, x_test, y_test\n",
    "                          )\n",
    "\n",
    "print(\"*** We will check your result for Question 3 manually *** (5 points)\")\n",
    "\n",
    "score += patient_checker(\n",
    "    7.5, 0.91, AdaBoost, {\"n_estimators\": 10},\n",
    "    \"AdaBoost(n_estimators=10)\",\n",
    "    x_train, y_train, x_test, y_test\n",
    ")\n",
    "\n",
    "score += patient_checker(\n",
    "    7.5, 0.87, AdaBoost, {\"n_estimators\": 100},\n",
    "    \"AdaBoost(n_estimators=100)\",\n",
    "    x_train, y_train, x_test, y_test\n",
    ")\n",
    "\n",
    "score += patient_checker(\n",
    "    5, 0.91, RandomForest,\n",
    "    {\"n_estimators\": 10, \"max_features\": np.sqrt(x_train.shape[1])},\n",
    "    \"RandomForest(n_estimators=10, max_features=sqrt(n_features))\",\n",
    "    x_train, y_train, x_test, y_test\n",
    ")\n",
    "\n",
    "score += patient_checker(\n",
    "    5, 0.91, RandomForest,\n",
    "    {\"n_estimators\": 100, \"max_features\": np.sqrt(x_train.shape[1])},\n",
    "    \"RandomForest(n_estimators=100, max_features=sqrt(n_features))\",\n",
    "    x_train, y_train, x_test, y_test\n",
    ")\n",
    "\n",
    "score += patient_checker(\n",
    "    5, 0.92, RandomForest,\n",
    "    {\"n_estimators\": 10, \"max_features\": x_train.shape[1]},\n",
    "    \"RandomForest(n_estimators=10, max_features=n_features)\",\n",
    "    x_train, y_train, x_test, y_test\n",
    ")\n",
    "\n",
    "print(\"*** We will check your result for Question 6 manually *** (20 points)\")\n",
    "print(\"Approximate score range:\", score, \"~\", score + 25)\n",
    "print(\"*** This score is only for reference ***\")"
   ]
  }
 ],
 "metadata": {
  "kernelspec": {
   "display_name": "Python 3.10.4 64-bit",
   "language": "python",
   "name": "python3"
  },
  "language_info": {
   "codemirror_mode": {
    "name": "ipython",
    "version": 3
   },
   "file_extension": ".py",
   "mimetype": "text/x-python",
   "name": "python",
   "nbconvert_exporter": "python",
   "pygments_lexer": "ipython3",
   "version": "3.10.4"
  },
  "vscode": {
   "interpreter": {
    "hash": "9c6da53ade2302c5c2549050a755f7271f56c4989f0bdbb18e4ce6e64f091b09"
   }
  }
 },
 "nbformat": 4,
 "nbformat_minor": 4
}
