{
 "cells": [
  {
   "cell_type": "code",
   "execution_count": 1,
   "metadata": {},
   "outputs": [],
   "source": [
    "import numpy as np\n",
    "import pandas as pd\n",
    "from sklearn.svm import SVC, SVR\n",
    "from sklearn.metrics import accuracy_score"
   ]
  },
  {
   "cell_type": "markdown",
   "metadata": {},
   "source": [
    "## Load data"
   ]
  },
  {
   "cell_type": "code",
   "execution_count": 2,
   "metadata": {},
   "outputs": [],
   "source": [
    "x_train = np.load(\"x_train.npy\")\n",
    "y_train = np.load(\"y_train.npy\")\n",
    "x_test = np.load(\"x_test.npy\")\n",
    "# y_test = np.load(\"y_test.npy\")"
   ]
  },
  {
   "cell_type": "code",
   "execution_count": 3,
   "metadata": {},
   "outputs": [
    {
     "name": "stdout",
     "output_type": "stream",
     "text": [
      "(7000, 300)\n"
     ]
    }
   ],
   "source": [
    "# 7000 data with 300 features\n",
    "print(x_train.shape)"
   ]
  },
  {
   "cell_type": "code",
   "execution_count": 4,
   "metadata": {},
   "outputs": [
    {
     "name": "stdout",
     "output_type": "stream",
     "text": [
      "[0 1]\n"
     ]
    }
   ],
   "source": [
    "# It's a binary classification problem \n",
    "print(np.unique(y_train))"
   ]
  },
  {
   "cell_type": "markdown",
   "metadata": {},
   "source": [
    "## Question 1\n",
    "K-fold data partition: Implement the K-fold cross-validation function. Your function should take K as an argument and return a list of lists (len(list) should equal to K), which contains K elements. Each element is a list contains two parts, the first part contains the index of all training folds, e.g. Fold 2 to Fold 5 in split 1. The second part contains the index of validation fold, e.g. Fold 1 in  split 1"
   ]
  },
  {
   "cell_type": "code",
   "execution_count": 5,
   "metadata": {},
   "outputs": [],
   "source": [
    "def cross_validation(x_train, y_train, k=5):\n",
    "    kfold_data = []\n",
    "    \n",
    "    # deal with number of data cannot be divided by k\n",
    "    mod = x_train.shape[0] % k\n",
    "    fold_len = np.empty(shape=k, dtype=int)\n",
    "    fold_len.fill(int(x_train.shape[0]/k))\n",
    "\n",
    "    for m in range(mod):\n",
    "        fold_len[m] += 1\n",
    "    \n",
    "    # shuffle index\n",
    "    indices = np.arange(x_train.shape[0], dtype=int)\n",
    "    np.random.shuffle(indices)\n",
    "\n",
    "    # arrange indices of each fold\n",
    "    for i in range(k):\n",
    "        train_indices = np.empty(shape=x_train.shape[0]-fold_len[i], dtype=int)\n",
    "        val_indices = np.empty(shape=fold_len[i], dtype=int)\n",
    "\n",
    "        idx, train_idx = 0, 0\n",
    "\n",
    "        for j in range(k):\n",
    "            if i == j:\n",
    "                val_indices = indices[idx: idx+fold_len[j]]\n",
    "            else:\n",
    "                train_indices[train_idx: train_idx+fold_len[j]] = indices[idx: idx+fold_len[j]]\n",
    "                train_idx += fold_len[j]\n",
    "            \n",
    "            idx += fold_len[j]\n",
    "\n",
    "        kfold_data.append([train_indices, val_indices])\n",
    "\n",
    "    return kfold_data"
   ]
  },
  {
   "cell_type": "code",
   "execution_count": 50,
   "metadata": {},
   "outputs": [],
   "source": [
    "kfold_data = cross_validation(x_train, y_train, k=10)\n",
    "assert len(kfold_data) == 10 # should contain 10 fold of data\n",
    "assert len(kfold_data[0]) == 2 # each element should contain train fold and validation fold\n",
    "assert kfold_data[0][1].shape[0] == 700 # The number of data in each validation fold should equal to training data divieded by K"
   ]
  },
  {
   "cell_type": "markdown",
   "metadata": {},
   "source": [
    "## example"
   ]
  },
  {
   "cell_type": "code",
   "execution_count": 7,
   "metadata": {},
   "outputs": [
    {
     "name": "stdout",
     "output_type": "stream",
     "text": [
      "Split: 1, Training index: [ 0  1  2  4  5  7  8  9 10 11 13 14 15 16 18 19], Validation index: [ 3  6 12 17]\n",
      "Split: 2, Training index: [ 2  3  4  5  6  9 10 11 12 13 14 15 16 17 18 19], Validation index: [0 1 7 8]\n",
      "Split: 3, Training index: [ 0  1  3  5  6  7  8  9 10 11 12 13 16 17 18 19], Validation index: [ 2  4 14 15]\n",
      "Split: 4, Training index: [ 0  1  2  3  4  6  7  8  9 10 11 12 13 14 15 17], Validation index: [ 5 16 18 19]\n",
      "Split: 5, Training index: [ 0  1  2  3  4  5  6  7  8 12 14 15 16 17 18 19], Validation index: [ 9 10 11 13]\n"
     ]
    }
   ],
   "source": [
    "from sklearn.model_selection import KFold\n",
    "\n",
    "X = np.arange(20)\n",
    "kf = KFold(n_splits=5, shuffle=True)\n",
    "kfold_data= []\n",
    "for i, (train_index, val_index) in enumerate(kf.split(X)):\n",
    "    print(\"Split: %s, Training index: %s, Validation index: %s\" % (i+1, train_index, val_index))\n",
    "    kfold_data.append([train_index, val_index])"
   ]
  },
  {
   "cell_type": "code",
   "execution_count": 7,
   "metadata": {},
   "outputs": [],
   "source": [
    "assert len(kfold_data) == 5 # should contain 5 fold of data\n",
    "assert len(kfold_data[0]) == 2 # each element should contains index of training fold and validation fold\n",
    "assert kfold_data[0][1].shape[0] == 4 # The number of data in each validation fold should equal to training data divieded by K"
   ]
  },
  {
   "cell_type": "markdown",
   "metadata": {},
   "source": [
    "## Question 2\n",
    "Using sklearn.svm.SVC to train a classifier on the provided train set and conduct the grid search of “C” and “gamma” to find the best parameters by cross-validation."
   ]
  },
  {
   "cell_type": "code",
   "execution_count": 33,
   "metadata": {},
   "outputs": [],
   "source": [
    "#clf = SVC(C=1.0, kernel='rbf', gamma=0.01)"
   ]
  },
  {
   "cell_type": "code",
   "execution_count": 53,
   "metadata": {},
   "outputs": [
    {
     "name": "stdout",
     "output_type": "stream",
     "text": [
      "(0.1, 1e-07): 0.5650000000000001\n",
      "(0.1, 1e-06): 0.565857142857143\n",
      "(0.1, 1e-05): 0.9147142857142857\n",
      "(0.1, 0.0001): 0.9737142857142856\n",
      "(0.1, 0.001): 0.5174285714285715\n",
      "(1.0, 1e-07): 0.5650000000000001\n",
      "(1.0, 1e-06): 0.909142857142857\n",
      "(1.0, 1e-05): 0.954\n",
      "(1.0, 0.0001): 0.9932857142857143\n",
      "(1.0, 0.001): 0.566857142857143\n",
      "(10.0, 1e-07): 0.9084285714285715\n",
      "(10.0, 1e-06): 0.9384285714285714\n",
      "(10.0, 1e-05): 0.9838571428571429\n",
      "(10.0, 0.0001): 0.9932857142857143\n",
      "(10.0, 0.001): 0.5662857142857143\n",
      "(100.0, 1e-07): 0.9358571428571428\n",
      "(100.0, 1e-06): 0.9481428571428572\n",
      "(100.0, 1e-05): 0.99\n",
      "(100.0, 0.0001): 0.9932857142857143\n",
      "(100.0, 0.001): 0.5662857142857143\n",
      "(1000.0, 1e-07): 0.9398571428571427\n",
      "(1000.0, 1e-06): 0.9748571428571429\n",
      "(1000.0, 1e-05): 0.9898571428571428\n",
      "(1000.0, 0.0001): 0.9932857142857143\n",
      "(1000.0, 0.001): 0.5662857142857143\n",
      "(10000.0, 1e-07): 0.9368571428571428\n",
      "(10000.0, 1e-06): 0.987142857142857\n",
      "(10000.0, 1e-05): 0.9898571428571428\n",
      "(10000.0, 0.0001): 0.9932857142857143\n",
      "(10000.0, 0.001): 0.5662857142857143\n",
      "(100000.0, 1e-07): 0.9684285714285714\n",
      "(100000.0, 1e-06): 0.987142857142857\n",
      "(100000.0, 1e-05): 0.9898571428571428\n",
      "(100000.0, 0.0001): 0.9932857142857143\n",
      "(100000.0, 0.001): 0.5662857142857143\n",
      "(1000000.0, 1e-07): 0.9848571428571429\n",
      "(1000000.0, 1e-06): 0.987142857142857\n",
      "(1000000.0, 1e-05): 0.9898571428571428\n",
      "(1000000.0, 0.0001): 0.9932857142857143\n",
      "(1000000.0, 0.001): 0.5662857142857143\n"
     ]
    }
   ],
   "source": [
    "## your code\n",
    "k = 5\n",
    "kfold_data = cross_validation(x_train, y_train, k=k)\n",
    "acc_table = []\n",
    "\n",
    "c_range = np.logspace(-1, 6, 8)\n",
    "gamma_range = np.logspace(-7, -3, 5)\n",
    "\n",
    "i = 0\n",
    "while i < len(c_range):\n",
    "    acc_row = []\n",
    "    j = 0\n",
    "    while j < len(gamma_range):\n",
    "        c, gamma = c_range[i], gamma_range[j]\n",
    "\n",
    "        clf = SVC(C=c, kernel='rbf', gamma=gamma)\n",
    "        acc, d = 0.0, 0\n",
    "\n",
    "        while d < k:\n",
    "            # assign training dataset and valid dataset\n",
    "            train_data, train_y, val_data, val_y = x_train[kfold_data[d][0]], y_train[kfold_data[d][0]], x_train[kfold_data[d][1]], y_train[kfold_data[d][1]]\n",
    "            \n",
    "            clf.fit(train_data, train_y)\n",
    "            y_pred = clf.predict(val_data)\n",
    "            acc += accuracy_score(y_pred, val_y)\n",
    "            d += 1\n",
    "        \n",
    "        acc /= k\n",
    "        acc_row.append(acc)\n",
    "\n",
    "        j += 1\n",
    "\n",
    "    acc_table.append(acc_row)\n",
    "    i += 1\n"
   ]
  },
  {
   "cell_type": "code",
   "execution_count": 54,
   "metadata": {},
   "outputs": [
    {
     "name": "stdout",
     "output_type": "stream",
     "text": [
      "(c, gamma) =  (10.0, 0.0001)\n"
     ]
    }
   ],
   "source": [
    "\n",
    "acc_table = np.array(acc_table)\n",
    "idx = np.argmax(acc_table)\n",
    "c_idx = idx // 5 + 1\n",
    "gamma_idx = idx % 5\n",
    "\n",
    "# (gamma, c)\n",
    "best_parameters = (c_range[c_idx], gamma_range[gamma_idx])\n",
    "print(\"(c, gamma) = \", best_parameters)"
   ]
  },
  {
   "cell_type": "markdown",
   "metadata": {},
   "source": [
    "## Question 3\n",
    "Plot the grid search results of your SVM. The x, y represents the hyperparameters of “gamma” and “C”, respectively. And the color represents the average score of validation folds\n",
    "You reults should be look like this reference image below ![image](https://miro.medium.com/max/1296/1*wGWTup9r4cVytB5MOnsjdQ.png) "
   ]
  },
  {
   "cell_type": "code",
   "execution_count": 55,
   "metadata": {},
   "outputs": [
    {
     "data": {
      "image/png": "[encoded data removed]",
      "text/plain": [
       "<Figure size 1000x800 with 2 Axes>"
      ]
     },
     "metadata": {},
     "output_type": "display_data"
    }
   ],
   "source": [
    "import matplotlib.pyplot as plt\n",
    "\n",
    "# plot grid search with dataframe\n",
    "df = pd.DataFrame(data=acc_table, index=c_range, columns=gamma_range)\n",
    "fig, ax = plt.subplots(figsize=(10, 8))\n",
    "img = ax.imshow(df, cmap='GnBu')\n",
    "fig.colorbar(img, orientation='vertical', fraction=0.05)\n",
    "\n",
    "ax.set_xticks(np.arange(len(gamma_range)), labels=gamma_range)\n",
    "ax.set_yticks(np.arange(len(c_range)), labels=c_range)\n",
    "plt.xlabel(\"Gamma Parameter\")\n",
    "plt.ylabel(\"C Parameter\")\n",
    "\n",
    "for i in range(len(df.index)):\n",
    "    for j in range(len(df.columns)):\n",
    "        text = ax.text(j, i, str(round(acc_table[i, j], 2)), fontsize=10, ha=\"center\", va=\"center\", color=\"black\")\n",
    "\n",
    "plt.show()"
   ]
  },
  {
   "cell_type": "markdown",
   "metadata": {},
   "source": [
    "## Question 4\n",
    "Train your SVM model by the best parameters you found from question 2 on the whole training set and evaluate the performance on the test set."
   ]
  },
  {
   "cell_type": "code",
   "execution_count": 57,
   "metadata": {},
   "outputs": [
    {
     "ename": "NameError",
     "evalue": "name 'y_test' is not defined",
     "output_type": "error",
     "traceback": [
      "\u001b[1;31m---------------------------------------------------------------------------\u001b[0m",
      "\u001b[1;31mNameError\u001b[0m                                 Traceback (most recent call last)",
      "Cell \u001b[1;32mIn [57], line 5\u001b[0m\n\u001b[0;32m      3\u001b[0m best_model\u001b[39m.\u001b[39mfit(x_train, y_train)\n\u001b[0;32m      4\u001b[0m y_pred \u001b[39m=\u001b[39m best_model\u001b[39m.\u001b[39mpredict(x_test)\n\u001b[1;32m----> 5\u001b[0m \u001b[39mprint\u001b[39m(\u001b[39m\"\u001b[39m\u001b[39mAccuracy score: \u001b[39m\u001b[39m\"\u001b[39m, accuracy_score(y_pred, y_test))\n",
      "\u001b[1;31mNameError\u001b[0m: name 'y_test' is not defined"
     ]
    }
   ],
   "source": [
    "best_c, best_gamma = best_parameters\n",
    "best_model = SVC(C=best_c, kernel='rbf', gamma=best_gamma)\n",
    "best_model.fit(x_train, y_train)\n",
    "y_pred = best_model.predict(x_test)\n",
    "print(\"Accuracy score: \", accuracy_score(y_pred, y_test))"
   ]
  }
 ],
 "metadata": {
  "kernelspec": {
   "display_name": "Python 3.10.4 64-bit",
   "language": "python",
   "name": "python3"
  },
  "language_info": {
   "codemirror_mode": {
    "name": "ipython",
    "version": 3
   },
   "file_extension": ".py",
   "mimetype": "text/x-python",
   "name": "python",
   "nbconvert_exporter": "python",
   "pygments_lexer": "ipython3",
   "version": "3.10.4 (tags/v3.10.4:9d38120, Mar 23 2022, 23:13:41) [MSC v.1929 64 bit (AMD64)]"
  },
  "vscode": {
   "interpreter": {
    "hash": "9c6da53ade2302c5c2549050a755f7271f56c4989f0bdbb18e4ce6e64f091b09"
   }
  }
 },
 "nbformat": 4,
 "nbformat_minor": 4
}
