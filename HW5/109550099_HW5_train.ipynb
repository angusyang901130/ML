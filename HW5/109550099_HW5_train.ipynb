{
  "cells": [
    {
      "cell_type": "code",
      "execution_count": null,
      "metadata": {
        "colab": {
          "base_uri": "https://localhost:8080/"
        },
        "id": "0funhrARbzXf",
        "outputId": "34388e9f-b812-4a29-b468-5dd81c7b12d3"
      },
      "outputs": [],
      "source": [
        "from google.colab import drive\n",
        "drive.mount('/content/drive')"
      ]
    },
    {
      "cell_type": "code",
      "execution_count": null,
      "metadata": {
        "colab": {
          "base_uri": "https://localhost:8080/"
        },
        "id": "Vv9PTO-Gbudh",
        "outputId": "c1da87cf-ce3b-48f7-f8cd-01e317bcea0a"
      },
      "outputs": [],
      "source": [
        "!pip install pandas==1.3.5\n",
        "!pip install tqdm==4.64.0"
      ]
    },
    {
      "cell_type": "code",
      "execution_count": null,
      "metadata": {
        "_cell_guid": "b1076dfc-b9ad-4769-8c92-a6c4dae69d19",
        "_uuid": "8f2839f25d086af736a60e9eeb907d3b93b6e0e5",
        "execution": {
          "iopub.execute_input": "2022-12-13T11:51:50.094164Z",
          "iopub.status.busy": "2022-12-13T11:51:50.093677Z",
          "iopub.status.idle": "2022-12-13T11:51:50.123838Z",
          "shell.execute_reply": "2022-12-13T11:51:50.122730Z",
          "shell.execute_reply.started": "2022-12-13T11:51:50.094062Z"
        },
        "id": "DhcyWZ9gbtbJ",
        "trusted": true
      },
      "outputs": [],
      "source": [
        "# This Python 3 environment comes with many helpful analytics libraries installed\n",
        "# It is defined by the kaggle/python Docker image: https://github.com/kaggle/docker-python\n",
        "# For example, here's several helpful packages to load\n",
        "\n",
        "import numpy as np # linear algebra\n",
        "import pandas as pd # data processing, CSV file I/O (e.g. pd.read_csv)\n",
        "\n",
        "# Input data files are available in the read-only \"../input/\" directory\n",
        "# For example, running this (by clicking run or pressing Shift+Enter) will list all files under the input directory\n",
        "\n",
        "import os\n",
        "# for dirname, _, filenames in os.walk('/kaggle/input'):\n",
        "#     for filename in filenames[:3]:\n",
        "#         print(os.path.join(dirname, filename))\n",
        "#     if len(filenames) > 3:\n",
        "#         print(\"...\")\n",
        "\n",
        "# You can write up to 20GB to the current directory (/kaggle/working/) that gets preserved as output when you create a version using \"Save & Run All\" \n",
        "# You can also write temporary files to /kaggle/temp/, but they won't be saved outside of the current session"
      ]
    },
    {
      "cell_type": "code",
      "execution_count": null,
      "metadata": {
        "execution": {
          "iopub.execute_input": "2022-12-13T11:51:50.126915Z",
          "iopub.status.busy": "2022-12-13T11:51:50.126028Z",
          "iopub.status.idle": "2022-12-13T11:51:52.142643Z",
          "shell.execute_reply": "2022-12-13T11:51:52.141575Z",
          "shell.execute_reply.started": "2022-12-13T11:51:50.126877Z"
        },
        "id": "q-yoJf90btbQ",
        "trusted": true
      },
      "outputs": [],
      "source": [
        "import csv\n",
        "import numpy as np\n",
        "import random\n",
        "import time\n",
        "\n",
        "from tqdm import tqdm\n",
        "\n",
        "import torch\n",
        "import torch.nn as nn\n",
        "from torch.utils.data import Dataset, DataLoader\n",
        "from torchvision.models import resnet18\n",
        "from torchvision.io import read_image\n",
        "import torchvision.transforms as transforms\n",
        "\n"
      ]
    },
    {
      "cell_type": "code",
      "execution_count": null,
      "metadata": {
        "execution": {
          "iopub.execute_input": "2022-12-13T11:51:52.218610Z",
          "iopub.status.busy": "2022-12-13T11:51:52.217254Z",
          "iopub.status.idle": "2022-12-13T11:51:52.228797Z",
          "shell.execute_reply": "2022-12-13T11:51:52.227766Z",
          "shell.execute_reply.started": "2022-12-13T11:51:52.218572Z"
        },
        "id": "kaMPsfY9btbT",
        "trusted": true
      },
      "outputs": [],
      "source": [
        "code = {}\n",
        "rev_code = {}\n",
        "\n",
        "num = 0\n",
        "for i in range(10):\n",
        "    code[str(i)] = num\n",
        "    rev_code[num] = str(i)\n",
        "    num += 1\n",
        "\n",
        "for i in range(ord('a'), ord('z') + 1):\n",
        "    code[chr(i)]  = num\n",
        "    rev_code[num] = chr(i)\n",
        "    num += 1\n",
        "\n",
        "#print(code)   \n",
        "\n"
      ]
    },
    {
      "cell_type": "code",
      "execution_count": null,
      "metadata": {
        "colab": {
          "base_uri": "https://localhost:8080/"
        },
        "execution": {
          "iopub.execute_input": "2022-12-13T11:51:52.148409Z",
          "iopub.status.busy": "2022-12-13T11:51:52.147873Z",
          "iopub.status.idle": "2022-12-13T11:51:52.214671Z",
          "shell.execute_reply": "2022-12-13T11:51:52.213547Z",
          "shell.execute_reply.started": "2022-12-13T11:51:52.148359Z"
        },
        "id": "X-zrorcjbtbS",
        "outputId": "ac16c3e4-c083-4bb1-cc90-4cf6a88cd197",
        "trusted": true
      },
      "outputs": [],
      "source": [
        "TRAIN_PATH = \"/content/drive/MyDrive/kaggle/input/captcha-hacker/train\"\n",
        "#TEST_PATH = \"/kaggle/input/captcha-hacker/test\"\n",
        "#TRAIN_PATH = \"./train\"\n",
        "#TEST_PATH = \"./test\"\n",
        "device = torch.device(\"cuda\" if torch.cuda.is_available() else \"cpu\")\n",
        "\n",
        "# try device = \"cuda\" \n",
        "# and change your settings/accelerator to GPU if you want it to run faster\n",
        "\n",
        "print(len(os.listdir(TRAIN_PATH+\"/task1\")))\n",
        "print(len(os.listdir(TRAIN_PATH+\"/task2\")))\n",
        "print(len(os.listdir(TRAIN_PATH+\"/task3\")))"
      ]
    },
    {
      "cell_type": "code",
      "execution_count": null,
      "metadata": {
        "execution": {
          "iopub.execute_input": "2022-12-13T11:51:52.231426Z",
          "iopub.status.busy": "2022-12-13T11:51:52.230001Z",
          "iopub.status.idle": "2022-12-13T11:51:52.240717Z",
          "shell.execute_reply": "2022-12-13T11:51:52.239558Z",
          "shell.execute_reply.started": "2022-12-13T11:51:52.231389Z"
        },
        "id": "X8MpuGFUbtbU",
        "trusted": true
      },
      "outputs": [],
      "source": [
        "'''\n",
        "Check for task2 and task3 if the output match the label\n",
        "'''\n",
        "\n",
        "def calc_acc(output, label):  \n",
        "    digits = int(output.shape[1] / 36)\n",
        "    output, label = output.view((-1, digits , 36)), label.view((-1, digits, 36))\n",
        "    output = nn.functional.softmax(output, dim=2)  # every 36 elements represents an one hot label\n",
        "    \n",
        "    output, label = torch.argmax(output, dim=2), torch.argmax(label, dim=2)\n",
        "    \n",
        "    \n",
        "    #Check the number of characters are matched, if equal to the length of the string label, then is correct\n",
        "    correct = torch.sum(output == label, dim=1)   \n",
        "    correct = torch.sum(correct == digits, dim=0)   \n",
        "\n",
        "    return correct"
      ]
    },
    {
      "cell_type": "code",
      "execution_count": null,
      "metadata": {
        "execution": {
          "iopub.execute_input": "2022-12-13T11:51:52.244405Z",
          "iopub.status.busy": "2022-12-13T11:51:52.244050Z",
          "iopub.status.idle": "2022-12-13T11:51:52.295494Z",
          "shell.execute_reply": "2022-12-13T11:51:52.294579Z",
          "shell.execute_reply.started": "2022-12-13T11:51:52.244372Z"
        },
        "id": "60tUkBp9btbV",
        "trusted": true
      },
      "outputs": [],
      "source": [
        "train_data = []\n",
        "val_data = []\n",
        "\n",
        "with open(f'{TRAIN_PATH}/annotations.csv', newline='') as csvfile:\n",
        "    for row in csv.reader(csvfile, delimiter=','):\n",
        "        if random.random() < 0.85:\n",
        "            train_data.append(row)\n",
        "        else:\n",
        "            val_data.append(row)\n"
      ]
    },
    {
      "cell_type": "markdown",
      "metadata": {
        "id": "IC6iUrSxbtbW"
      },
      "source": [
        "## TASK1"
      ]
    },
    {
      "cell_type": "code",
      "execution_count": null,
      "metadata": {
        "execution": {
          "iopub.execute_input": "2022-12-13T11:51:52.302054Z",
          "iopub.status.busy": "2022-12-13T11:51:52.300030Z",
          "iopub.status.idle": "2022-12-13T11:51:52.313361Z",
          "shell.execute_reply": "2022-12-13T11:51:52.312450Z",
          "shell.execute_reply.started": "2022-12-13T11:51:52.302025Z"
        },
        "id": "PZftayfNbtbZ",
        "trusted": true
      },
      "outputs": [],
      "source": [
        "class Task1Dataset(Dataset):\n",
        "    def __init__(self, data, root, return_filename=False):\n",
        "        self.data = [sample for sample in data if sample[0].startswith(\"task1\")]\n",
        "        self.return_filename = return_filename\n",
        "        self.root = root\n",
        "    \n",
        "    def __getitem__(self, index):\n",
        "        filename, label = self.data[index]\n",
        "        img = read_image(f\"{self.root}/{filename}\")\n",
        "        img = torch.as_tensor(img, dtype=torch.float32)\n",
        "        \n",
        "        # data pre-processing\n",
        "        transform = transforms.Compose([\n",
        "            transforms.Resize(size=288),   # resize to 4 times of original image\n",
        "            transforms.Normalize(mean=[0, 0, 0], std=[255, 255, 255]),    # divided by 255, make the values of the tensor between 0 and 1\n",
        "            transforms.Normalize(mean=[0.485, 0.456, 0.406], std=[0.229, 0.224, 0.225]),   # normalization follow the pre-processing of pre-trained resnet\n",
        "        ])\n",
        "\n",
        "        img = transform(img)\n",
        "        if self.return_filename:\n",
        "            return img, filename\n",
        "        else:\n",
        "            return img, int(label)\n",
        "\n",
        "    def __len__(self):\n",
        "        return len(self.data)"
      ]
    },
    {
      "cell_type": "code",
      "execution_count": null,
      "metadata": {
        "execution": {
          "iopub.execute_input": "2022-12-13T11:51:52.320113Z",
          "iopub.status.busy": "2022-12-13T11:51:52.317805Z",
          "iopub.status.idle": "2022-12-13T11:51:52.329471Z",
          "shell.execute_reply": "2022-12-13T11:51:52.328366Z",
          "shell.execute_reply.started": "2022-12-13T11:51:52.320076Z"
        },
        "id": "YwGUW8olbtba",
        "trusted": true
      },
      "outputs": [],
      "source": [
        "train_ds = Task1Dataset(train_data, root=TRAIN_PATH)\n",
        "train_dl = DataLoader(train_ds, batch_size=100, num_workers=2, drop_last=True, shuffle=True)\n",
        "\n",
        "val_ds = Task1Dataset(val_data, root=TRAIN_PATH)\n",
        "val_dl = DataLoader(val_ds, batch_size=100, num_workers=2, drop_last=False, shuffle=False)"
      ]
    },
    {
      "cell_type": "code",
      "execution_count": null,
      "metadata": {
        "colab": {
          "base_uri": "https://localhost:8080/"
        },
        "execution": {
          "iopub.execute_input": "2022-12-13T11:51:52.333586Z",
          "iopub.status.busy": "2022-12-13T11:51:52.333257Z",
          "iopub.status.idle": "2022-12-13T11:52:03.959143Z",
          "shell.execute_reply": "2022-12-13T11:52:03.958214Z",
          "shell.execute_reply.started": "2022-12-13T11:51:52.333540Z"
        },
        "id": "JjnO9nDkbtbb",
        "outputId": "a36747ab-f43d-4ace-885f-a900e870bc00",
        "trusted": true
      },
      "outputs": [],
      "source": [
        "task1_model = resnet18(pretrained=True)\n",
        "task1_model.fc = nn.Linear(in_features=512, out_features=10, bias=True)\n",
        "task1_model = task1_model.to(device)\n",
        "#print(model)"
      ]
    },
    {
      "cell_type": "code",
      "execution_count": null,
      "metadata": {
        "colab": {
          "base_uri": "https://localhost:8080/"
        },
        "execution": {
          "iopub.execute_input": "2022-12-13T11:52:03.963301Z",
          "iopub.status.busy": "2022-12-13T11:52:03.962963Z",
          "iopub.status.idle": "2022-12-13T11:53:50.971370Z",
          "shell.execute_reply": "2022-12-13T11:53:50.970231Z",
          "shell.execute_reply.started": "2022-12-13T11:52:03.963274Z"
        },
        "id": "99IXKfpdbtbd",
        "outputId": "ae28b2d5-5be9-4b54-9731-c8ac71a446c3",
        "trusted": true
      },
      "outputs": [],
      "source": [
        "\n",
        "optimizer = torch.optim.Adam(task1_model.parameters(), lr=3e-4)\n",
        "loss_fn = nn.CrossEntropyLoss()\n",
        "\n",
        "\n",
        "for epoch in range(15):\n",
        "    print(f\"Epoch [{epoch}]\")\n",
        "    task1_model.train()\n",
        "    for image, label in tqdm(train_dl):\n",
        "        image = image.to(device)\n",
        "        label = label.to(device)\n",
        "        \n",
        "        pred = task1_model(image)\n",
        "        loss = loss_fn(pred, label)\n",
        "        \n",
        "        optimizer.zero_grad()\n",
        "        loss.backward()\n",
        "        optimizer.step()\n",
        "        \n",
        "        # keep gpu enough space\n",
        "        del image, label, pred\n",
        "        #torch.cuda.empty_cache()\n",
        "        \n",
        "    sample_count = 0\n",
        "    correct_count = 0\n",
        "    task1_model.eval()\n",
        "    with torch.no_grad():\n",
        "        for image, label in tqdm(val_dl):\n",
        "            image = image.to(device)\n",
        "            label = label.to(device)\n",
        "\n",
        "            pred = task1_model(image)\n",
        "            loss = loss_fn(pred, label)\n",
        "\n",
        "            pred = torch.argmax(pred, dim=1)\n",
        "\n",
        "            sample_count += len(image)\n",
        "            correct_count += (label == pred).sum()\n",
        "\n",
        "            # keep gpu enough space\n",
        "            del image, label, pred\n",
        "            #torch.cuda.empty_cache()\n",
        "        \n",
        "    print(\"accuracy (validation):\", correct_count / sample_count)\n",
        "\n",
        "torch.save(task1_model.state_dict(), \"/content/drive/MyDrive/kaggle/task1_model.pt\")"
      ]
    },
    {
      "cell_type": "markdown",
      "metadata": {
        "id": "40lYdhs2btbe"
      },
      "source": [
        "## TASK2"
      ]
    },
    {
      "cell_type": "code",
      "execution_count": null,
      "metadata": {
        "execution": {
          "iopub.execute_input": "2022-12-13T11:54:42.358183Z",
          "iopub.status.busy": "2022-12-13T11:54:42.354980Z",
          "iopub.status.idle": "2022-12-13T11:54:42.372118Z",
          "shell.execute_reply": "2022-12-13T11:54:42.370850Z",
          "shell.execute_reply.started": "2022-12-13T11:54:42.358140Z"
        },
        "id": "-cLzYR90btbe",
        "trusted": true
      },
      "outputs": [],
      "source": [
        "class Task2Dataset(Dataset):\n",
        "    def __init__(self, data, root, return_filename=False):\n",
        "        self.data = [sample for sample in data if sample[0].startswith(\"task2\")]\n",
        "        self.return_filename = return_filename\n",
        "        self.root = root\n",
        "    \n",
        "    def __getitem__(self, index):\n",
        "        filename, label = self.data[index]\n",
        "        img = read_image(f\"{self.root}/{filename}\")\n",
        "        img = torch.as_tensor(img, dtype=torch.float32)\n",
        "        \n",
        "        # same pre-processing as task 1\n",
        "        transform = transforms.Compose([\n",
        "            transforms.Resize(size=288),\n",
        "            transforms.Normalize(mean=[0, 0, 0], std=[255, 255, 255]),\n",
        "            transforms.Normalize(mean=[0.485, 0.456, 0.406], std=[0.229, 0.224, 0.225]),\n",
        "        ])\n",
        "\n",
        "        img = transform(img)\n",
        "        if self.return_filename:\n",
        "            return img, filename\n",
        "        else:\n",
        "            # create a vector of size 72, with 36 element one-hot labels concatenated\n",
        "            new_label = np.zeros(shape=72)\n",
        "            new_label[code[label[0]]] = 1\n",
        "            new_label[code[label[1]]+36] = 1\n",
        "            #new_label += np.array([0, 36])\n",
        "            new_label = torch.LongTensor(new_label)\n",
        "            return img, new_label\n",
        "\n",
        "    def __len__(self):\n",
        "        return len(self.data)"
      ]
    },
    {
      "cell_type": "code",
      "execution_count": null,
      "metadata": {
        "execution": {
          "iopub.execute_input": "2022-12-13T11:54:42.374823Z",
          "iopub.status.busy": "2022-12-13T11:54:42.373751Z",
          "iopub.status.idle": "2022-12-13T11:54:42.392475Z",
          "shell.execute_reply": "2022-12-13T11:54:42.391296Z",
          "shell.execute_reply.started": "2022-12-13T11:54:42.374784Z"
        },
        "id": "a48vy6g5btbf",
        "trusted": true
      },
      "outputs": [],
      "source": [
        "train_ds = Task2Dataset(train_data, root=TRAIN_PATH)\n",
        "train_dl = DataLoader(train_ds, batch_size=100, num_workers=2, drop_last=True, shuffle=True)\n",
        "\n",
        "val_ds = Task2Dataset(val_data, root=TRAIN_PATH)\n",
        "val_dl = DataLoader(val_ds, batch_size=100, num_workers=2, drop_last=False, shuffle=False)"
      ]
    },
    {
      "cell_type": "code",
      "execution_count": null,
      "metadata": {
        "execution": {
          "iopub.execute_input": "2022-12-13T11:54:42.395095Z",
          "iopub.status.busy": "2022-12-13T11:54:42.394602Z",
          "iopub.status.idle": "2022-12-13T11:54:42.743707Z",
          "shell.execute_reply": "2022-12-13T11:54:42.742724Z",
          "shell.execute_reply.started": "2022-12-13T11:54:42.395057Z"
        },
        "id": "jlVl4zpKbtbf",
        "trusted": true
      },
      "outputs": [],
      "source": [
        "task2_model = resnet18(pretrained=True)\n",
        "task2_model.fc = nn.Linear(in_features=512, out_features=72, bias=True)\n",
        "task2_model = task2_model.to(device)"
      ]
    },
    {
      "cell_type": "code",
      "execution_count": null,
      "metadata": {
        "colab": {
          "base_uri": "https://localhost:8080/"
        },
        "execution": {
          "iopub.execute_input": "2022-12-13T11:54:42.746127Z",
          "iopub.status.busy": "2022-12-13T11:54:42.745420Z",
          "iopub.status.idle": "2022-12-13T11:56:43.849201Z",
          "shell.execute_reply": "2022-12-13T11:56:43.847288Z",
          "shell.execute_reply.started": "2022-12-13T11:54:42.746088Z"
        },
        "id": "of_jd819btbg",
        "outputId": "21c2e164-b8d5-4483-cd49-33a67cc391b1",
        "trusted": true
      },
      "outputs": [],
      "source": [
        "optimizer = torch.optim.Adam(task2_model.parameters(), lr=6e-4)\n",
        "loss_fn = nn.MultiLabelSoftMarginLoss()\n",
        "\n",
        "\n",
        "for epoch in range(15):\n",
        "    print(f\"Epoch [{epoch}]\")\n",
        "    task2_model.train()\n",
        "\n",
        "    train_loss = 0.0\n",
        "    for image, label in tqdm(train_dl):\n",
        "\n",
        "        image = image.to(device)\n",
        "        label = label.to(device)\n",
        "\n",
        "        pred = task2_model(image)\n",
        "        loss = loss_fn(pred, label)\n",
        "        \n",
        "        train_loss += loss\n",
        "        optimizer.zero_grad()\n",
        "        loss.backward()\n",
        "        optimizer.step()\n",
        "        \n",
        "        del image, label, pred\n",
        "        #torch.cuda.empty_cache()\n",
        "    \n",
        "    train_loss /= len(train_dl)\n",
        "    print(\"train loss: {}\".format(train_loss))\n",
        "\n",
        "    sample_count = 0\n",
        "    correct_count = 0\n",
        "    task2_model.eval()\n",
        "    val_loss = 0\n",
        "    \n",
        "    with torch.no_grad():\n",
        "        for image, label in tqdm(val_dl):\n",
        "            image = image.to(device)\n",
        "            label = label.to(device)\n",
        "\n",
        "            pred = task2_model(image)\n",
        "            loss = loss_fn(pred, label)\n",
        "            val_loss += loss\n",
        "\n",
        "            sample_count += len(image)\n",
        "            correct_count += calc_acc(pred, label)\n",
        "\n",
        "            del image, label, pred\n",
        "            #torch.cuda.empty_cache()\n",
        "\n",
        "        val_loss /= len(val_dl)\n",
        "        print(\"val loss: {}\".format(val_loss))\n",
        "        \n",
        "    print(\"accuracy (validation):\", correct_count / sample_count)\n",
        "\n",
        "torch.save(task2_model.state_dict(), \"/content/drive/MyDrive/kaggle/task2_model.pt\")"
      ]
    },
    {
      "cell_type": "markdown",
      "metadata": {
        "id": "TqTMJHz1btbg"
      },
      "source": [
        "## TASK3"
      ]
    },
    {
      "cell_type": "code",
      "execution_count": null,
      "metadata": {
        "execution": {
          "iopub.execute_input": "2022-12-13T11:57:03.454027Z",
          "iopub.status.busy": "2022-12-13T11:57:03.453647Z",
          "iopub.status.idle": "2022-12-13T11:57:03.464591Z",
          "shell.execute_reply": "2022-12-13T11:57:03.462536Z",
          "shell.execute_reply.started": "2022-12-13T11:57:03.453989Z"
        },
        "id": "ZO-jBiDYbtbh",
        "trusted": true
      },
      "outputs": [],
      "source": [
        "class Task3Dataset(Dataset):\n",
        "    def __init__(self, data, root, return_filename=False):\n",
        "        self.data = [sample for sample in data if sample[0].startswith(\"task3\")]\n",
        "        self.return_filename = return_filename\n",
        "        self.root = root\n",
        "    \n",
        "    def __getitem__(self, index):\n",
        "        filename, label = self.data[index]\n",
        "        img = read_image(f\"{self.root}/{filename}\")\n",
        "        img = torch.as_tensor(img, dtype=torch.float32)\n",
        "        \n",
        "        # pre-processing same as task1\n",
        "        transform = transforms.Compose([\n",
        "            transforms.Resize(size=(384, 288)),\n",
        "            transforms.Normalize(mean=[0, 0, 0], std=[255, 255, 255]),\n",
        "            transforms.Normalize(mean=[0.485, 0.456, 0.406], std=[0.229, 0.224, 0.225]),\n",
        "        ])\n",
        "\n",
        "        img = transform(img)\n",
        "        if self.return_filename:\n",
        "            return img, filename\n",
        "        else:\n",
        "            # create a vector of size 72, with 36 element one-hot labels concatenated\n",
        "            new_label = np.zeros(shape=144)\n",
        "            for i in range(4):\n",
        "                new_label[code[label[i]]+i*36] = 1\n",
        "            new_label = torch.LongTensor(new_label)\n",
        "            return img, new_label\n",
        "\n",
        "    def __len__(self):\n",
        "        return len(self.data)"
      ]
    },
    {
      "cell_type": "code",
      "execution_count": null,
      "metadata": {
        "execution": {
          "iopub.execute_input": "2022-12-13T11:57:03.466561Z",
          "iopub.status.busy": "2022-12-13T11:57:03.465995Z",
          "iopub.status.idle": "2022-12-13T11:57:03.478123Z",
          "shell.execute_reply": "2022-12-13T11:57:03.477148Z",
          "shell.execute_reply.started": "2022-12-13T11:57:03.466503Z"
        },
        "id": "ClOqSrS-btbh",
        "trusted": true
      },
      "outputs": [],
      "source": [
        "train_ds = Task3Dataset(train_data, root=TRAIN_PATH)\n",
        "train_dl = DataLoader(train_ds, batch_size=100, num_workers=2, drop_last=True, shuffle=True)\n",
        "\n",
        "val_ds = Task3Dataset(val_data, root=TRAIN_PATH)\n",
        "val_dl = DataLoader(val_ds, batch_size=100, num_workers=2, drop_last=False, shuffle=False)"
      ]
    },
    {
      "cell_type": "code",
      "execution_count": null,
      "metadata": {
        "execution": {
          "iopub.execute_input": "2022-12-13T11:57:03.480227Z",
          "iopub.status.busy": "2022-12-13T11:57:03.479551Z",
          "iopub.status.idle": "2022-12-13T11:57:03.709123Z",
          "shell.execute_reply": "2022-12-13T11:57:03.708062Z",
          "shell.execute_reply.started": "2022-12-13T11:57:03.480176Z"
        },
        "id": "w-kp3bQJbtbi",
        "trusted": true
      },
      "outputs": [],
      "source": [
        "task3_model = resnet18(pretrained=True)\n",
        "task3_model.fc = nn.Linear(in_features=512, out_features=144, bias=True)\n",
        "task3_model = task3_model.to(device)"
      ]
    },
    {
      "cell_type": "code",
      "execution_count": null,
      "metadata": {
        "colab": {
          "base_uri": "https://localhost:8080/"
        },
        "execution": {
          "iopub.execute_input": "2022-12-13T11:57:03.711239Z",
          "iopub.status.busy": "2022-12-13T11:57:03.710896Z",
          "iopub.status.idle": "2022-12-13T12:24:54.343537Z",
          "shell.execute_reply": "2022-12-13T12:24:54.342266Z",
          "shell.execute_reply.started": "2022-12-13T11:57:03.711204Z"
        },
        "id": "urbjYqC9btbi",
        "outputId": "1e2f6438-a900-4651-a3fe-096d27cd7c5b",
        "trusted": true
      },
      "outputs": [],
      "source": [
        "optimizer = torch.optim.Adam(task3_model.parameters(), lr=1e-3)\n",
        "# learning rate decay 0.15 after 20 epochs\n",
        "scheduler = torch.optim.lr_scheduler.StepLR(optimizer, step_size=20, gamma=0.85)\n",
        "loss_fn = nn.MultiLabelSoftMarginLoss()\n",
        "\n",
        "\n",
        "for epoch in range(60):\n",
        "    print(f\"Epoch [{epoch}]\")\n",
        "    task3_model.train()\n",
        "\n",
        "    train_loss = 0.0\n",
        "    for image, label in tqdm(train_dl):\n",
        "\n",
        "        image = image.to(device)\n",
        "        label = label.to(device)\n",
        "\n",
        "        pred = task3_model(image)\n",
        "        loss = loss_fn(pred, label)\n",
        "        \n",
        "        train_loss += loss\n",
        "        optimizer.zero_grad()\n",
        "        loss.backward()\n",
        "        optimizer.step()\n",
        "        \n",
        "        del image, label, pred\n",
        "        #torch.cuda.empty_cache()\n",
        "    \n",
        "    scheduler.step()\n",
        "    train_loss /= len(train_dl)\n",
        "    print(\"train loss: {}\".format(train_loss))\n",
        "\n",
        "    sample_count = 0\n",
        "    correct_count = 0\n",
        "    task3_model.eval()\n",
        "    val_loss = 0\n",
        "    \n",
        "    with torch.no_grad():\n",
        "        for image, label in tqdm(val_dl):\n",
        "            image = image.to(device)\n",
        "            label = label.to(device)\n",
        "\n",
        "            pred = task3_model(image)\n",
        "            loss = loss_fn(pred, label)\n",
        "            val_loss += loss\n",
        "\n",
        "            sample_count += len(image)\n",
        "            correct_count += calc_acc(pred, label)\n",
        "\n",
        "            del image, label, pred\n",
        "            #torch.cuda.empty_cache()\n",
        "\n",
        "        val_loss /= len(val_dl)\n",
        "        print(\"val loss: {}\".format(val_loss))\n",
        "        \n",
        "    print(\"accuracy (validation):\", correct_count / sample_count)\n",
        "\n",
        "torch.save(task3_model.state_dict(), \"/content/drive/MyDrive/kaggle/task3_model.pt\")"
      ]
    }
  ],
  "metadata": {
    "accelerator": "GPU",
    "colab": {
      "provenance": []
    },
    "gpuClass": "standard",
    "kernelspec": {
      "display_name": "Python 3",
      "language": "python",
      "name": "python3"
    },
    "language_info": {
      "codemirror_mode": {
        "name": "ipython",
        "version": 3
      },
      "file_extension": ".py",
      "mimetype": "text/x-python",
      "name": "python",
      "nbconvert_exporter": "python",
      "pygments_lexer": "ipython3",
      "version": "3.10.4 (tags/v3.10.4:9d38120, Mar 23 2022, 23:13:41) [MSC v.1929 64 bit (AMD64)]"
    },
    "vscode": {
      "interpreter": {
        "hash": "9c6da53ade2302c5c2549050a755f7271f56c4989f0bdbb18e4ce6e64f091b09"
      }
    }
  },
  "nbformat": 4,
  "nbformat_minor": 0
}
